{
 "cells": [
  {
   "cell_type": "code",
   "execution_count": 70,
   "metadata": {},
   "outputs": [
    {
     "data": {
      "text/plain": [
       "(1.913541430890075e-05, 0.01601250184399959, 0.001540514634640201)"
      ]
     },
     "execution_count": 70,
     "metadata": {},
     "output_type": "execute_result"
    }
   ],
   "source": [
    "import numpy as np\n",
    "import matplotlib.pyplot as plt\n",
    "import random\n",
    "import sys\n",
    "import madjax\n",
    "import numpy as np\n",
    "import jax\n",
    "import matplotlib.pyplot as plt\n",
    "\n",
    "\n",
    "E_cm = 91.1876\n",
    "\n",
    "\n",
    "def func1(E_cm):\n",
    "    mZ = 91.1876\n",
    "    gamZ = 2.4952\n",
    "\n",
    "    s = E_cm**2\n",
    "    r = (\n",
    "        12\n",
    "        * np.pi\n",
    "        / mZ**2\n",
    "        * s\n",
    "        / ((s - mZ**2) ** 2 + mZ**2 * gamZ**2)\n",
    "        * 0.0839\n",
    "        * 0.0839\n",
    "    )\n",
    "    #     return r / 2.56819 / 1000 * 1e9\n",
    "    return r\n",
    "\n",
    "\n",
    "def func2(E_cm):\n",
    "    mZ = 91.1876\n",
    "    gamZ = 2.4952\n",
    "    alpha = 1 / 132.5070\n",
    "    s = E_cm**2\n",
    "    I3W = -1 / 2\n",
    "    Q = -1\n",
    "    sinT2w = 0.22224649\n",
    "    cV = I3W - 2 * Q * sinT2w\n",
    "    cA = I3W\n",
    "\n",
    "    sinTw = np.sqrt(sinT2w)\n",
    "    cosTw = np.sqrt(1 - sinT2w)\n",
    "\n",
    "    e = np.sqrt(4 * np.pi * alpha)\n",
    "\n",
    "    gZ = e / (sinTw * cosTw)\n",
    "\n",
    "    #     print(gZ**2*mZ/(48*np.pi)*(cV**2 + cA**2))\n",
    "\n",
    "    return (\n",
    "        1\n",
    "        / (192 * np.pi)\n",
    "        * gZ**4\n",
    "        * s\n",
    "        / ((s - mZ**2) ** 2 + mZ**2 * gamZ**2)\n",
    "        * (cV**2 + cA**2)\n",
    "        * (cV**2 + cA**2)\n",
    "    )\n",
    "\n",
    "\n",
    "def get_constants(E_cm):\n",
    "    mZ = 91.1876\n",
    "    gamZ = 2.4952\n",
    "    alpha = 1 / 132.5070\n",
    "    s = E_cm**2\n",
    "    I3W = -1 / 2\n",
    "    Q = -1\n",
    "    sinT2w = 0.22224649\n",
    "    cV = I3W - 2 * Q * sinT2w\n",
    "    cA = I3W\n",
    "\n",
    "    sinTw = np.sqrt(sinT2w)\n",
    "    cosTw = np.sqrt(1 - sinT2w)\n",
    "\n",
    "    e = np.sqrt(4 * np.pi * alpha)\n",
    "\n",
    "    gZ = e / (sinTw * cosTw)\n",
    "\n",
    "    pre = (\n",
    "        1\n",
    "        / (64 * np.pi**2)\n",
    "        * 1\n",
    "        / 4\n",
    "        * gZ**4\n",
    "        * s\n",
    "        / ((s - mZ**2) ** 2 + mZ**2 * gamZ**2)\n",
    "    )\n",
    "    prop2 = 2 * cV**2 * cA**2\n",
    "    prop1 = 1 / 4 * (cV**2 + cA**2) * (cV**2 + cA**2)\n",
    "    return pre, prop1, prop2\n",
    "\n",
    "\n",
    "def func3(E_cm, cosTheta):\n",
    "    pre, prop1, prop2 = get_constants(E_cm)\n",
    "\n",
    "    r = pre * (prop1 * (1 + cosTheta**2) + prop2 * cosTheta)\n",
    "    return r\n",
    "\n",
    "\n",
    "mj = madjax.MadJax('ee_to_mumu')\n",
    "\n",
    "\n",
    "def func_from_madjax(E_cm, x):\n",
    "    matrix_element = mj.matrix_element(E_cm=E_cm, process_name='Matrix_1_mupmum_epem')\n",
    "    jacobian = mj.jacobian(E_cm=E_cm, process_name='Matrix_1_mupmum_epem')\n",
    "    m = matrix_element({}, [x, 0.0])[0]\n",
    "    j = jacobian({}, [x, 0.0])\n",
    "    return m * j * 1.1542082055734027e-07\n",
    "\n",
    "\n",
    "get_constants(E_cm)"
   ]
  },
  {
   "cell_type": "code",
   "execution_count": 68,
   "metadata": {},
   "outputs": [
    {
     "data": {
      "text/plain": [
       "RAvgArray([5.13369(12)e-06], dtype=object)"
      ]
     },
     "execution_count": 68,
     "metadata": {},
     "output_type": "execute_result"
    }
   ],
   "source": [
    "import vegas\n",
    "\n",
    "integ = vegas.Integrator([[-1, 1]])\n",
    "integ(lambda x: func3(E_cm, x)) * 2 * np.pi"
   ]
  },
  {
   "cell_type": "code",
   "execution_count": 69,
   "metadata": {},
   "outputs": [],
   "source": [
    "?integ"
   ]
  },
  {
   "cell_type": "code",
   "execution_count": 48,
   "metadata": {},
   "outputs": [
    {
     "data": {
      "text/plain": [
       "DeviceArray(3.3017639e-07, dtype=float64)"
      ]
     },
     "execution_count": 48,
     "metadata": {},
     "output_type": "execute_result"
    }
   ],
   "source": [
    "func_from_madjax(90, 0)"
   ]
  },
  {
   "cell_type": "code",
   "execution_count": 56,
   "metadata": {},
   "outputs": [
    {
     "data": {
      "image/png": "[encoded data removed]",
      "text/plain": [
       "<Figure size 360x360 with 1 Axes>"
      ]
     },
     "metadata": {
      "needs_background": "light"
     },
     "output_type": "display_data"
    }
   ],
   "source": [
    "cms = np.linspace(85, 94.5, 100)\n",
    "plt.plot(cms, [func1(x) for x in cms])\n",
    "plt.plot(cms, [func2(x) for x in cms])\n",
    "plt.plot(cms, [func3(x, 0) * 8 / 3 * 2 * np.pi for x in cms])\n",
    "plt.plot(cms, [func_from_madjax(x, 0.5) * 8 / 3 * 2 * np.pi for x in cms])\n",
    "plt.gcf().set_size_inches(5, 5)"
   ]
  },
  {
   "cell_type": "code",
   "execution_count": 45,
   "metadata": {},
   "outputs": [
    {
     "name": "stdout",
     "output_type": "stream",
     "text": [
      "5.125930882358799e-06\n",
      "5.133879408404376e-06\n",
      "5.133879408404376e-06\n",
      "44.47966479196793\n"
     ]
    }
   ],
   "source": [
    "print(func1(E_cm))\n",
    "print(func2(E_cm))\n",
    "print(func3(E_cm, 0) * 8 / 3 * 2 * np.pi)\n",
    "print(func_from_madjax(E_cm, 0.5) * 8 / 3 * 2 * np.pi)"
   ]
  },
  {
   "cell_type": "code",
   "execution_count": 53,
   "metadata": {},
   "outputs": [
    {
     "data": {
      "text/plain": [
       "1.3880738944092417e-11"
      ]
     },
     "execution_count": 53,
     "metadata": {},
     "output_type": "execute_result"
    }
   ],
   "source": [
    "5.133879408404376e-06 / 44.47966479196793 / E_cm**2"
   ]
  },
  {
   "cell_type": "code",
   "execution_count": null,
   "metadata": {},
   "outputs": [],
   "source": []
  }
 ],
 "metadata": {
  "kernelspec": {
   "display_name": "Python 3",
   "language": "python",
   "name": "python3"
  },
  "language_info": {
   "codemirror_mode": {
    "name": "ipython",
    "version": 3
   },
   "file_extension": ".py",
   "mimetype": "text/x-python",
   "name": "python",
   "nbconvert_exporter": "python",
   "pygments_lexer": "ipython3",
   "version": "3.7.2"
  }
 },
 "nbformat": 4,
 "nbformat_minor": 4
}
