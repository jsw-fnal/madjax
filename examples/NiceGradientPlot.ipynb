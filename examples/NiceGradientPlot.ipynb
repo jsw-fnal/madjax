{
 "cells": [
  {
   "cell_type": "code",
   "execution_count": 72,
   "metadata": {},
   "outputs": [
    {
     "name": "stdout",
     "output_type": "stream",
     "text": [
      "ME: 1.0274054820975642e-22\n",
      "ME prime: {('mass', 23): DeviceArray(2.50700231e-24, dtype=float64), ('mass', 25): DeviceArray(-1.64384877e-24, dtype=float64), ('sminputs', 2): DeviceArray(4.80858946e-17, dtype=float64)}\n"
     ]
    }
   ],
   "source": [
    "import random\n",
    "import sys\n",
    "import madjax\n",
    "import numpy as np\n",
    "import jax\n",
    "import matplotlib.pyplot as plt\n",
    "\n",
    "\n",
    "mj = madjax.MadJax('higgs4l')\n",
    "\n",
    "random_variables = [0.2]*8\n",
    "\n",
    "# Center of mass of the collision in GeV\n",
    "matrix_element = mj.matrix_element(E_cm=125., process_name='Matrix_1_bbx_h_epemmupmum')\n",
    "jacobian = mj.jacobian(E_cm = 125, process_name='Matrix_1_bbx_h_epemmupmum')\n",
    "\n",
    "\n",
    "pars = {\n",
    "    (\"mass\", 23): 9.918800e01,\n",
    "    (\"sminputs\", 2): 1.166390e-05,\n",
    "    (\"mass\", 25): 1.250000e+02\n",
    "}\n",
    "v,p = matrix_element(pars, random_variables)\n",
    "print(\"ME:\", v)\n",
    "print(\"ME prime:\", p)"
   ]
  },
  {
   "cell_type": "code",
   "execution_count": 75,
   "metadata": {},
   "outputs": [
    {
     "data": {
      "text/plain": [
       "(DeviceArray(6.07234323e-07, dtype=float64), {})"
      ]
     },
     "execution_count": 75,
     "metadata": {},
     "output_type": "execute_result"
    }
   ],
   "source": [
    "matrix_element({},random_variables)"
   ]
  },
  {
   "cell_type": "code",
   "execution_count": 82,
   "metadata": {},
   "outputs": [],
   "source": [
    "parvals = np.linspace(50,150,2*3*4*5)\n",
    "a = [matrix_element({(\"mass\", 23): x}, random_variables) for x in parvals]\n",
    "a = np.asarray([(x[0],x[1][('mass',23)]) for x in a])"
   ]
  },
  {
   "cell_type": "code",
   "execution_count": 84,
   "metadata": {},
   "outputs": [
    {
     "data": {
      "image/png": "[encoded data removed]",
      "text/plain": [
       "<Figure size 432x288 with 2 Axes>"
      ]
     },
     "metadata": {
      "needs_background": "light"
     },
     "output_type": "display_data"
    }
   ],
   "source": [
    "every_n = 3\n",
    "plt.plot(parvals,a[:,0],label = '|M|²')\n",
    "QV1 = plt.quiver(\n",
    "    parvals[::every_n],\n",
    "    a[::every_n,0],\n",
    "    np.ones_like(a[::every_n,1]),\n",
    "    a[::every_n,1],\n",
    "    a[::every_n,1],\n",
    "    angles = 'xy',\n",
    "    units = 'xy',\n",
    "    cmap = 'cool',\n",
    ")\n",
    "plt.colorbar(label = '∇|M|²')\n",
    "# plt.quiverkey(QV1, 0.8,0.1, 1.0, '∇|M|²')\n",
    "plt.title('Higgs→ZZ→4l')\n",
    "plt.legend()\n",
    "plt.xlabel('Z mass [GeV]')\n",
    "plt.xlabel('|M|²')\n",
    "plt.savefig('higgs4l.png', dpi = 300)"
   ]
  },
  {
   "cell_type": "code",
   "execution_count": null,
   "metadata": {},
   "outputs": [],
   "source": []
  }
 ],
 "metadata": {
  "kernelspec": {
   "display_name": "Python 3",
   "language": "python",
   "name": "python3"
  },
  "language_info": {
   "codemirror_mode": {
    "name": "ipython",
    "version": 3
   },
   "file_extension": ".py",
   "mimetype": "text/x-python",
   "name": "python",
   "nbconvert_exporter": "python",
   "pygments_lexer": "ipython3",
   "version": "3.7.2"
  }
 },
 "nbformat": 4,
 "nbformat_minor": 4
}
