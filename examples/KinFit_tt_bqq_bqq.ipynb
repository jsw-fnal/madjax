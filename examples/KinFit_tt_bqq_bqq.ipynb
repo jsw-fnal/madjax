{
 "cells": [
  {
   "cell_type": "code",
   "execution_count": 1,
   "metadata": {},
   "outputs": [
    {
     "name": "stderr",
     "output_type": "stream",
     "text": [
      "/Users/mkagan/Documents/ML_SLAC/MADJAX/madjaxenv/lib/python3.8/site-packages/jax/lib/xla_bridge.py:123: UserWarning: No GPU/TPU found, falling back to CPU.\n",
      "  warnings.warn('No GPU/TPU found, falling back to CPU.')\n"
     ]
    }
   ],
   "source": [
    "import sys\n",
    "import jax\n",
    "from jax.config import config\n",
    "config.update('jax_enable_x64', True)\n",
    "\n",
    "import jax\n",
    "import jax.numpy as jnp\n",
    "\n",
    "import madjax\n",
    "from madjax.phasespace.flat_phase_space_generator import FlatInvertiblePhasespace\n",
    "#from madjax.phasespace.new_flat_phase_space_generator import generate_phase_space_inputs, generateKinematics, invertKinematics\n",
    "from madjax.phasespace.vectors import Vector\n",
    "\n",
    "key = jax.random.PRNGKey(0)\n",
    "\n",
    "#numpy & friends\n",
    "import numpy as onp\n",
    "import matplotlib.pyplot as plt\n",
    "%matplotlib inline\n",
    "import scipy.optimize\n",
    "\n",
    "import random as random_orig\n",
    "\n",
    "import importlib\n",
    "importlib.reload(jax)\n",
    "\n",
    "#mj = madjax.MadJax(config_name=sys.argv[1])\n",
    "mj = madjax.MadJax(config_name=\"ttbar_bqq_bqq\")"
   ]
  },
  {
   "cell_type": "code",
   "execution_count": 2,
   "metadata": {},
   "outputs": [],
   "source": [
    "process_name = \"Matrix_1_gg_ttx_t_budx_tx_bxdux\"\n",
    "process = mj.processes[process_name]()\n",
    "\n",
    "E_cm = 14000.\n",
    "\n",
    "nDimPhaseSpace = 14\n",
    "\n",
    "matrix_element = mj.matrix_element(E_cm=E_cm, process_name=process_name, return_grad=False)\n",
    "\n",
    "\n",
    "external_parameters = {}\n",
    "parameters = mj.parameters.calculate_full_parameters(external_parameters)\n",
    "external_masses = process.get_external_masses(parameters)\n",
    "\n",
    "\n",
    "ps_generator = FlatInvertiblePhasespace(\n",
    "    external_masses[0], external_masses[1],\n",
    "    beam_Es = (E_cm/2.,E_cm/2.),\n",
    "    beam_types=(0,0)\n",
    ")\n",
    "\n",
    "\n",
    "\n"
   ]
  },
  {
   "cell_type": "code",
   "execution_count": 7,
   "metadata": {},
   "outputs": [],
   "source": [
    "def get_final_state(point):\n",
    "    return jax.numpy.asarray( [p.asarray() for p in point[-6:]] )\n",
    "\n",
    "def convert_to_PS_point(incoming, observed):\n",
    "    _out = jax.numpy.vstack(([p.asarray() for p in incoming], [p for p in obs]))\n",
    "    return [Vector(p) for p in _out]\n",
    "\n",
    "def smear_final_state(subkey, final, sig_jet=0.1):\n",
    "    smear = jax.random.normal(subkey,(6,4))*0.2\n",
    "    return final + smear\n",
    "\n",
    "def smear_logpdf(observed, final):\n",
    "    log_pdf = jax.scipy.stats.norm.logpdf(observed,final,0.2)\n",
    "    return jax.numpy.sum(log_pdf)\n",
    "\n",
    "def logpdf(observed, parameters, random_variables):\n",
    "    PS_point, jacobian = ps_generator.generateKinematics(E_cm, random_variables)\n",
    "    ME_value = matrix_element(parameters, random_variables)\n",
    "    final = get_final_state(PS_point)\n",
    "    return smear_logpdf(observed, final) + jax.numpy.log(ME_value) + jax.numpy.log(jacobian)\n",
    "    "
   ]
  },
  {
   "cell_type": "code",
   "execution_count": 4,
   "metadata": {},
   "outputs": [],
   "source": [
    "def get_nll(params):\n",
    "    def nll(observed, rv):\n",
    "        return -logpdf(observed, params, rv) \n",
    "\n",
    "    v_and_g = jax.jit(jax.value_and_grad(nll, argnums=1))\n",
    "    #v_and_g = jax.value_and_grad(nll)\n",
    "    \n",
    "    def objective(observed, rv):\n",
    "        v,g = v_and_g(observed, rv)\n",
    "        return v,g\n",
    "    return objective\n",
    "\n",
    "\n",
    "def get_rv_objective(observed, nll_objective):\n",
    "    \n",
    "    def rv_objective(rv):\n",
    "        return nll_objective(observed, rv)\n",
    "    \n",
    "    return rv_objective"
   ]
  },
  {
   "cell_type": "code",
   "execution_count": 5,
   "metadata": {},
   "outputs": [
    {
     "name": "stderr",
     "output_type": "stream",
     "text": [
      "/Users/mkagan/Documents/ML_SLAC/MADJAX/madjaxenv/lib/python3.8/site-packages/jax/lax/lax.py:1975: ComplexWarning: Casting complex values to real discards the imaginary part\n",
      "  lambda t, new_dtype, old_dtype: [convert_element_type(t, old_dtype)])\n"
     ]
    },
    {
     "name": "stdout",
     "output_type": "stream",
     "text": [
      "[DeviceArray(-67036.73778069, dtype=float64), DeviceArray(-46780.37099833, dtype=float64), DeviceArray(-602.1353541, dtype=float64), DeviceArray(-12292.48677876, dtype=float64), DeviceArray(-35833.94575276, dtype=float64), DeviceArray(190159.65786819, dtype=float64), DeviceArray(30515.52456446, dtype=float64), DeviceArray(-74646.83618944, dtype=float64), DeviceArray(-8359.9457158, dtype=float64), DeviceArray(-82446.64742757, dtype=float64), DeviceArray(-5354.57501763, dtype=float64), DeviceArray(45050.63884748, dtype=float64), DeviceArray(-8196.58370924, dtype=float64), DeviceArray(29143.08114759, dtype=float64)]\n"
     ]
    }
   ],
   "source": [
    "random_variables = [random_orig.random() for _ in range(ps_generator.nDimPhaseSpace())]\n",
    "PS_point, jacobian = ps_generator.generateKinematics(E_cm, random_variables)\n",
    "\n",
    "fs = get_final_state(PS_point)\n",
    "\n",
    "key,subkey = jax.random.split(key)\n",
    "obs = smear_final_state(subkey, fs)\n",
    "\n",
    "nll_objective = get_nll(external_parameters)\n",
    "objective = get_rv_objective(obs, nll_objective)\n",
    "\n",
    "print(objective(random_variables)[1])"
   ]
  },
  {
   "cell_type": "code",
   "execution_count": 8,
   "metadata": {},
   "outputs": [
    {
     "name": "stdout",
     "output_type": "stream",
     "text": [
      "     fun: -0.052323549719432094\n",
      "     jac: array([  23209.39842793,   -2373.90358311,    4896.50384407,\n",
      "          2457.33084551,  -32124.87493355, -135883.110809  ,\n",
      "        -22414.37669318,   86296.08476771,  -64102.35367142,\n",
      "        -73747.28669617,  -63671.85960357, -147807.70070856,\n",
      "        -15844.24090645,  379749.95331651])\n",
      " message: 'Optimization terminated successfully.'\n",
      "    nfev: 1\n",
      "     nit: 5\n",
      "    njev: 1\n",
      "  status: 0\n",
      " success: True\n",
      "       x: array([0.33337956, 0.54974943, 0.38719507, 0.24073918, 0.3357683 ,\n",
      "       0.34047089, 0.2840093 , 0.91097052, 0.77513549, 0.25508162,\n",
      "       0.1775508 , 0.38788803, 0.18046613, 0.14091495])\n"
     ]
    }
   ],
   "source": [
    "obs_vec = convert_to_PS_point(incoming=PS_point[0:2], observed=obs)\n",
    "i_rv, i_wt = ps_generator.invertKinematics(E_cm, obs_vec)\n",
    "\n",
    "r = scipy.optimize.minimize(\n",
    "    objective,\n",
    "    onp.asarray(i_rv),\n",
    "    jac = True,\n",
    "    method = 'SLSQP',\n",
    "    bounds = [(0.0,1.0)]*14\n",
    ")\n",
    "print(r)\n",
    "bestfit = r.x"
   ]
  },
  {
   "cell_type": "code",
   "execution_count": 9,
   "metadata": {},
   "outputs": [
    {
     "name": "stdout",
     "output_type": "stream",
     "text": [
      "[0.3333012238564995, 0.5497305650886092, 0.3872104283590405, 0.24066640520746863, 0.3357395325595064, 0.3404992286392333, 0.2840465854061176, 0.9109509106976008, 0.7751252987704087, 0.25507142253210724, 0.17755850777668225, 0.38788706277447815, 0.18046540357901786, 0.1408610027268985]\n"
     ]
    }
   ],
   "source": [
    "print(random_variables)"
   ]
  },
  {
   "cell_type": "code",
   "execution_count": null,
   "metadata": {},
   "outputs": [],
   "source": []
  }
 ],
 "metadata": {
  "kernelspec": {
   "display_name": "Python 3",
   "language": "python",
   "name": "python3"
  },
  "language_info": {
   "codemirror_mode": {
    "name": "ipython",
    "version": 3
   },
   "file_extension": ".py",
   "mimetype": "text/x-python",
   "name": "python",
   "nbconvert_exporter": "python",
   "pygments_lexer": "ipython3",
   "version": "3.8.2"
  }
 },
 "nbformat": 4,
 "nbformat_minor": 2
}
