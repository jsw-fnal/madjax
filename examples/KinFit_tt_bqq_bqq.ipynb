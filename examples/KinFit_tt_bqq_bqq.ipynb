{
 "cells": [
  {
   "cell_type": "code",
   "execution_count": null,
   "metadata": {},
   "outputs": [],
   "source": [
    "import sys\n",
    "import timeit\n",
    "\n",
    "import jax\n",
    "from jax.config import config\n",
    "config.update('jax_enable_x64', True)\n",
    "\n",
    "import jax.numpy as jnp\n",
    "from jax.ops import index, index_update\n",
    "\n",
    "\n",
    "import madjax\n",
    "from madjax.phasespace.flat_phase_space_generator import FlatInvertiblePhasespace\n",
    "#from madjax.phasespace.new_flat_phase_space_generator import generate_phase_space_inputs, generateKinematics, invertKinematics\n",
    "from madjax.phasespace.vectors import Vector\n",
    "\n",
    "key = jax.random.PRNGKey(0)\n",
    "\n",
    "#numpy & friends\n",
    "import numpy as onp\n",
    "import matplotlib.pyplot as plt\n",
    "%matplotlib inline\n",
    "import scipy.optimize\n",
    "\n",
    "import random as random_orig\n",
    "\n",
    "mj = madjax.MadJax(config_name=\"ttbar_bqq_bqq\")"
   ]
  },
  {
   "cell_type": "code",
   "execution_count": null,
   "metadata": {},
   "outputs": [],
   "source": [
    "process_name = \"Matrix_1_gg_ttx_t_budx_tx_bxdux\"\n",
    "process = mj.processes[process_name]()\n",
    "\n",
    "E_cm = 14000.\n",
    "\n",
    "nDimPhaseSpace = 14\n",
    "\n",
    "matrix_element = mj.matrix_element(E_cm=E_cm, process_name=process_name, return_grad=False, do_jit=False)\n",
    "\n",
    "\n",
    "external_parameters = {}\n",
    "parameters = mj.parameters.calculate_full_parameters(external_parameters)\n",
    "external_masses = process.get_external_masses(parameters)\n",
    "\n",
    "\n",
    "ps_generator = FlatInvertiblePhasespace(\n",
    "    external_masses[0], external_masses[1],\n",
    "    beam_Es = (E_cm/2.,E_cm/2.),\n",
    "    beam_types=(0,0)\n",
    ")\n",
    "\n",
    "\n",
    "\n"
   ]
  },
  {
   "cell_type": "code",
   "execution_count": null,
   "metadata": {},
   "outputs": [],
   "source": [
    "def get_final_state(point):\n",
    "    return jax.numpy.asarray( [p.asarray() for p in point[-6:]] )\n",
    "\n",
    "def convert_to_PS_point(incoming, observed):\n",
    "    _out = jax.numpy.vstack(([p.asarray() for p in incoming], [p for p in observed]))\n",
    "    return [Vector(p) for p in _out]\n",
    "\n",
    "def smear_final_state(subkey, final, sig_jet=0.1):\n",
    "    smear = jax.random.normal(subkey,(6,4))*0.2\n",
    "    return final + smear\n",
    "\n",
    "def smear_logpdf(observed, final):\n",
    "    log_pdf = jax.scipy.stats.norm.logpdf(observed,final,0.2)\n",
    "    return jax.numpy.sum(log_pdf)\n",
    "\n",
    "def logpdf(observed, parameters, random_variables):\n",
    "    PS_point, jacobian = ps_generator.generateKinematics(E_cm, random_variables)\n",
    "    ME_value = matrix_element(parameters, random_variables)\n",
    "    final = get_final_state(PS_point)\n",
    "    return smear_logpdf(observed, final) + jax.numpy.log(ME_value) + jax.numpy.log(jacobian)\n",
    "    "
   ]
  },
  {
   "cell_type": "code",
   "execution_count": null,
   "metadata": {},
   "outputs": [],
   "source": [
    "def get_nll(params):\n",
    "    def nll(observed, rv):\n",
    "        return -logpdf(observed, params, rv) \n",
    "\n",
    "    v_and_g = jax.jit(jax.value_and_grad(nll, argnums=1))\n",
    "    #v_and_g = jax.value_and_grad(nll, argnums=1)\n",
    "    \n",
    "    def objective(observed, rv):\n",
    "        v,g = v_and_g(observed, rv)\n",
    "        return v,g\n",
    "    return objective\n",
    "\n",
    "\n",
    "def get_rv_objective(observed, nll_objective):\n",
    "    \n",
    "    def rv_objective(rv):\n",
    "        return nll_objective(observed, rv)\n",
    "    \n",
    "    return rv_objective"
   ]
  },
  {
   "cell_type": "code",
   "execution_count": null,
   "metadata": {},
   "outputs": [],
   "source": [
    "random_variables = [random_orig.random() for _ in range(ps_generator.nDimPhaseSpace())]\n",
    "PS_point, jacobian = ps_generator.generateKinematics(E_cm, random_variables)\n",
    "\n",
    "fs = get_final_state(PS_point)\n",
    "\n",
    "key,subkey = jax.random.split(key)\n",
    "obs = smear_final_state(subkey, fs)\n",
    "\n",
    "nll_objective = get_nll(external_parameters)\n",
    "objective = get_rv_objective(obs, nll_objective)\n",
    "\n",
    "start_time = timeit.default_timer()\n",
    "print(objective(random_variables))\n",
    "elapsed = timeit.default_timer() - start_time\n",
    "print(\"time\", elapsed)"
   ]
  },
  {
   "cell_type": "code",
   "execution_count": null,
   "metadata": {},
   "outputs": [],
   "source": [
    "random_variables = [random_orig.random() for _ in range(ps_generator.nDimPhaseSpace())]\n",
    "PS_point, jacobian = ps_generator.generateKinematics(E_cm, random_variables)\n",
    "\n",
    "fs = get_final_state(PS_point)\n",
    "\n",
    "key,subkey = jax.random.split(key)\n",
    "obs = smear_final_state(subkey, fs)"
   ]
  },
  {
   "cell_type": "code",
   "execution_count": null,
   "metadata": {},
   "outputs": [],
   "source": [
    "obs_vec = convert_to_PS_point(incoming=PS_point[0:2], observed=obs)\n",
    "i_rv, i_wt = ps_generator.invertKinematics(E_cm, obs_vec)\n",
    "\n",
    "objective = get_rv_objective(obs, nll_objective)\n",
    "\n",
    "start_time = timeit.default_timer()\n",
    "r = scipy.optimize.minimize(\n",
    "    objective,\n",
    "    jnp.asarray(i_rv),\n",
    "    jac = True,\n",
    "    method = 'Newton-CG',\n",
    "    bounds = [(0.0,1.0)]*14\n",
    ")\n",
    "elapsed = timeit.default_timer() - start_time\n",
    "\n",
    "\n",
    "print(r)\n",
    "print(\"time\",elapsed)\n",
    "bestfit = r.x\n",
    "print(\"true rvs:\",random_variables)"
   ]
  },
  {
   "cell_type": "code",
   "execution_count": null,
   "metadata": {},
   "outputs": [],
   "source": [
    "jnp.asarray(i_rv)"
   ]
  },
  {
   "cell_type": "code",
   "execution_count": null,
   "metadata": {},
   "outputs": [],
   "source": [
    "random_variables = [random_orig.random() for _ in range(ps_generator.nDimPhaseSpace())]\n",
    "PS_point, jacobian = ps_generator.generateKinematics(E_cm, random_variables)\n",
    "\n",
    "fs = get_final_state(PS_point)\n",
    "\n",
    "key,subkey = jax.random.split(key)\n",
    "obs = smear_final_state(subkey, fs)\n",
    "\n",
    "combos = [[0,1,2,3,4,5],\n",
    "          [0,4,2,3,1,5],\n",
    "          [0,5,2,3,4,1],\n",
    "          [3,1,2,0,4,5],\n",
    "          [3,4,2,0,1,5],\n",
    "          [3,5,2,0,4,1]]\n",
    "\n",
    "results = []\n",
    "for i in range(6):\n",
    "    print(\"Starting Combination\", i)\n",
    "    \n",
    "    new_obs = obs[ combos[i] ]\n",
    "    \n",
    "    obs_vec = convert_to_PS_point(incoming=PS_point[0:2], observed=new_obs)\n",
    "    i_rv, i_wt = ps_generator.invertKinematics(E_cm, obs_vec)\n",
    "    \n",
    "    new_objective = get_rv_objective(new_obs, nll_objective)\n",
    "    \n",
    "    start_time = timeit.default_timer()\n",
    "    r = scipy.optimize.minimize(\n",
    "    new_objective,\n",
    "    onp.asarray(i_rv),\n",
    "    jac = True,\n",
    "    method = 'Newton-CG',\n",
    "    bounds = [(0.0,1.0)]*14\n",
    "    )\n",
    "    elapsed = timeit.default_timer() - start_time\n",
    "\n",
    "    results.append(r)\n",
    "    print(r)\n",
    "    if i==0:\n",
    "        print(\"rvs\", random_variables)\n",
    "    print(\"time\",elapsed)\n",
    "    print(\"\")"
   ]
  },
  {
   "cell_type": "code",
   "execution_count": null,
   "metadata": {},
   "outputs": [],
   "source": [
    "print(random_variables)"
   ]
  },
  {
   "cell_type": "code",
   "execution_count": null,
   "metadata": {},
   "outputs": [],
   "source": []
  },
  {
   "cell_type": "code",
   "execution_count": null,
   "metadata": {},
   "outputs": [],
   "source": [
    "\n",
    "    \n"
   ]
  },
  {
   "cell_type": "code",
   "execution_count": null,
   "metadata": {},
   "outputs": [],
   "source": []
  },
  {
   "cell_type": "code",
   "execution_count": null,
   "metadata": {},
   "outputs": [],
   "source": []
  }
 ],
 "metadata": {
  "kernelspec": {
   "display_name": "Python 3",
   "language": "python",
   "name": "python3"
  },
  "language_info": {
   "codemirror_mode": {
    "name": "ipython",
    "version": 3
   },
   "file_extension": ".py",
   "mimetype": "text/x-python",
   "name": "python",
   "nbconvert_exporter": "python",
   "pygments_lexer": "ipython3",
   "version": "3.8.2"
  }
 },
 "nbformat": 4,
 "nbformat_minor": 2
}
