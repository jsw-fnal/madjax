{
 "cells": [
  {
   "cell_type": "code",
   "execution_count": 1,
   "metadata": {},
   "outputs": [
    {
     "name": "stderr",
     "output_type": "stream",
     "text": [
      "/Users/mkagan/Documents/ML_SLAC/MADJAX/madjaxenv/lib/python3.8/site-packages/jax/lib/xla_bridge.py:123: UserWarning: No GPU/TPU found, falling back to CPU.\n",
      "  warnings.warn('No GPU/TPU found, falling back to CPU.')\n"
     ]
    }
   ],
   "source": [
    "import sys\n",
    "import timeit\n",
    "\n",
    "import jax\n",
    "from jax.config import config\n",
    "config.update('jax_enable_x64', True)\n",
    "\n",
    "import jax.numpy as jnp\n",
    "from jax.ops import index, index_update\n",
    "\n",
    "\n",
    "import madjax\n",
    "from madjax.phasespace.flat_phase_space_generator import FlatInvertiblePhasespace\n",
    "#from madjax.phasespace.new_flat_phase_space_generator import generate_phase_space_inputs, generateKinematics, invertKinematics\n",
    "from madjax.phasespace.vectors import Vector\n",
    "\n",
    "key = jax.random.PRNGKey(0)\n",
    "\n",
    "#numpy & friends\n",
    "import numpy as onp\n",
    "import matplotlib.pyplot as plt\n",
    "%matplotlib inline\n",
    "import scipy.optimize\n",
    "\n",
    "import random as random_orig\n",
    "\n",
    "#import importlib\n",
    "#importlib.reload(jax)\n",
    "\n",
    "#mj = madjax.MadJax(config_name=sys.argv[1])\n",
    "mj = madjax.MadJax(config_name=\"ttbar_bqq_bqq\")"
   ]
  },
  {
   "cell_type": "code",
   "execution_count": 2,
   "metadata": {},
   "outputs": [],
   "source": [
    "process_name = \"Matrix_1_gg_ttx_t_budx_tx_bxdux\"\n",
    "process = mj.processes[process_name]()\n",
    "\n",
    "E_cm = 14000.\n",
    "\n",
    "nDimPhaseSpace = 14\n",
    "\n",
    "matrix_element = mj.matrix_element(E_cm=E_cm, process_name=process_name, do_jit=False)\n",
    "\n",
    "\n",
    "external_parameters = {}\n",
    "parameters = mj.parameters.calculate_full_parameters(external_parameters)\n",
    "external_masses = process.get_external_masses(parameters)\n",
    "\n",
    "\n",
    "ps_generator = FlatInvertiblePhasespace(\n",
    "    external_masses[0], external_masses[1],\n",
    "    beam_Es = (E_cm/2.,E_cm/2.),\n",
    "    beam_types=(0,0)\n",
    ")\n",
    "\n",
    "\n",
    "\n"
   ]
  },
  {
   "cell_type": "code",
   "execution_count": 3,
   "metadata": {},
   "outputs": [],
   "source": [
    "def get_final_state(point):\n",
    "    return jax.numpy.asarray( [p.asarray() for p in point[-6:]] )\n",
    "\n",
    "def convert_to_PS_point(incoming, observed):\n",
    "    _out = jax.numpy.vstack(([p.asarray() for p in incoming], [p for p in observed]))\n",
    "    return [Vector(p) for p in _out]\n",
    "\n",
    "def smear_final_state(subkey, final, sig_jet=0.1):\n",
    "    smear = jax.random.normal(subkey,(6,4))*0.2\n",
    "    return final + smear\n",
    "\n",
    "def smear_logpdf(observed, final):\n",
    "    log_pdf = jax.scipy.stats.norm.logpdf(observed,final,0.2)\n",
    "    return jax.numpy.sum(log_pdf)\n",
    "\n",
    "def logpdf(observed, parameters, random_variables):\n",
    "    PS_point, jacobian = ps_generator.generateKinematics(E_cm, random_variables)\n",
    "    ME_value = matrix_element(parameters, random_variables)\n",
    "    final = get_final_state(PS_point)\n",
    "    return smear_logpdf(observed, final) + jax.numpy.log(ME_value) + jax.numpy.log(jacobian)\n",
    "    "
   ]
  },
  {
   "cell_type": "code",
   "execution_count": 4,
   "metadata": {},
   "outputs": [],
   "source": [
    "def get_nll(params):\n",
    "    def nll(observed, rv):\n",
    "        return -logpdf(observed, params, rv) \n",
    "\n",
    "    v_and_g = jax.jit(jax.value_and_grad(nll, argnums=1))\n",
    "    #v_and_g = jax.value_and_grad(nll, argnums=1)\n",
    "    \n",
    "    def objective(observed, rv):\n",
    "        v,g = v_and_g(observed, rv)\n",
    "        return v,g\n",
    "    return objective\n",
    "\n",
    "\n",
    "def get_rv_objective(observed, nll_objective):\n",
    "    \n",
    "    def rv_objective(rv):\n",
    "        return nll_objective(observed, rv)\n",
    "    \n",
    "    return rv_objective"
   ]
  },
  {
   "cell_type": "code",
   "execution_count": 14,
   "metadata": {},
   "outputs": [
    {
     "name": "stdout",
     "output_type": "stream",
     "text": [
      "(DeviceArray(-14.8815418, dtype=float64), [DeviceArray(-60085.99617098, dtype=float64), DeviceArray(420261.99587517, dtype=float64), DeviceArray(16840.82836004, dtype=float64), DeviceArray(14707.48934722, dtype=float64), DeviceArray(13475.15093016, dtype=float64), DeviceArray(6535.80252126, dtype=float64), DeviceArray(9115.98832613, dtype=float64), DeviceArray(-269356.6993851, dtype=float64), DeviceArray(2472.36807693, dtype=float64), DeviceArray(-2785.20797573, dtype=float64), DeviceArray(-10634.66296716, dtype=float64), DeviceArray(-1950.4600314, dtype=float64), DeviceArray(-1794.29981612, dtype=float64), DeviceArray(-16069.63505263, dtype=float64)])\n",
      "jit time 660.3369751080008\n"
     ]
    }
   ],
   "source": [
    "random_variables = [random_orig.random() for _ in range(ps_generator.nDimPhaseSpace())]\n",
    "PS_point, jacobian = ps_generator.generateKinematics(E_cm, random_variables)\n",
    "\n",
    "fs = get_final_state(PS_point)\n",
    "\n",
    "key,subkey = jax.random.split(key)\n",
    "obs = smear_final_state(subkey, fs)\n",
    "\n",
    "nll_objective = get_nll(external_parameters)\n",
    "objective = get_rv_objective(obs, nll_objective)\n",
    "\n",
    "start_time = timeit.default_timer()\n",
    "print(objective(random_variables))\n",
    "elapsed = timeit.default_timer() - start_time\n",
    "print(\"jit time\", elapsed)"
   ]
  },
  {
   "cell_type": "code",
   "execution_count": 18,
   "metadata": {},
   "outputs": [],
   "source": [
    "random_variables = [random_orig.random() for _ in range(ps_generator.nDimPhaseSpace())]\n",
    "PS_point, jacobian = ps_generator.generateKinematics(E_cm, random_variables)\n",
    "\n",
    "fs = get_final_state(PS_point)\n",
    "\n",
    "key,subkey = jax.random.split(key)\n",
    "obs = smear_final_state(subkey, fs)"
   ]
  },
  {
   "cell_type": "code",
   "execution_count": 45,
   "metadata": {},
   "outputs": [
    {
     "name": "stdout",
     "output_type": "stream",
     "text": [
      "     fun: -8.719950193933414\n",
      "     jac: DeviceArray([ 118800.02115817,  -11154.26588206,  -20576.64062697,\n",
      "              -25767.01651583,  -93023.3076097 ,   14449.25821559,\n",
      "              -33705.89940403,  -88277.59596754,  -24875.58980591,\n",
      "                -986.18193972,  -23219.99844456, -161500.42701992,\n",
      "              -65984.7003016 ,  412553.76160724], dtype=float64)\n",
      " message: 'Optimization terminated successfully.'\n",
      "    nfev: 2\n",
      "    nhev: 0\n",
      "     nit: 1\n",
      "    njev: 4\n",
      "  status: 0\n",
      " success: True\n",
      "       x: DeviceArray([0.59480519, 0.58971939, 0.48156639, 0.44012385, 0.93200458,\n",
      "             0.35267831, 0.38137671, 0.51886891, 0.23973291, 0.39124666,\n",
      "             0.19193181, 0.49067666, 0.90717061, 0.78677016],            dtype=float64)\n",
      "time 0.015068435999637586\n",
      "true rvs: [0.5946855411787582, 0.589784601154183, 0.48161640450153487, 0.440117055990217, 0.9320075921373164, 0.35271666696798, 0.38135748404038217, 0.5188755444334604, 0.23968599595396956, 0.39124635073454905, 0.1919393341834036, 0.4906523251827777, 0.9071409635476337, 0.7867605498313021]\n"
     ]
    }
   ],
   "source": [
    "obs_vec = convert_to_PS_point(incoming=PS_point[0:2], observed=obs)\n",
    "i_rv, i_wt = ps_generator.invertKinematics(E_cm, obs_vec)\n",
    "\n",
    "objective = get_rv_objective(obs, nll_objective)\n",
    "\n",
    "start_time = timeit.default_timer()\n",
    "r = scipy.optimize.minimize(\n",
    "    objective,\n",
    "    jnp.asarray(i_rv),\n",
    "    jac = True,\n",
    "    method = 'Newton-CG',\n",
    "    bounds = [(0.0,1.0)]*14\n",
    ")\n",
    "elapsed = timeit.default_timer() - start_time\n",
    "\n",
    "\n",
    "print(r)\n",
    "print(\"time\",elapsed)\n",
    "bestfit = r.x\n",
    "print(\"true rvs:\",random_variables)"
   ]
  },
  {
   "cell_type": "code",
   "execution_count": 41,
   "metadata": {},
   "outputs": [
    {
     "data": {
      "text/plain": [
       "DeviceArray([0.59481747, 0.58971824, 0.48156426, 0.44012119, 0.93199496,\n",
       "             0.3526798 , 0.38137323, 0.51885978, 0.23973033, 0.39124656,\n",
       "             0.19192941, 0.49065995, 0.90716379, 0.78681283],            dtype=float64)"
      ]
     },
     "execution_count": 41,
     "metadata": {},
     "output_type": "execute_result"
    }
   ],
   "source": [
    "jnp.asarray(i_rv)"
   ]
  },
  {
   "cell_type": "code",
   "execution_count": 46,
   "metadata": {},
   "outputs": [
    {
     "name": "stdout",
     "output_type": "stream",
     "text": [
      "Starting Combination 0\n",
      "     fun: -9.370558308130839\n",
      "     jac: DeviceArray([-16230.60877106,   3820.9689206 ,  -5329.63901009,\n",
      "               -730.60131997,    846.66869122,  14947.46341143,\n",
      "               1022.17729131,  -5530.35833604,  -7674.09052773,\n",
      "             -19910.10978662,  45822.68536553,  -7337.99754921,\n",
      "               2364.81144326, -24312.82763115], dtype=float64)\n",
      " message: 'Optimization terminated successfully.'\n",
      "    nfev: 3\n",
      "    nhev: 0\n",
      "     nit: 2\n",
      "    njev: 10\n",
      "  status: 0\n",
      " success: True\n",
      "       x: DeviceArray([0.37356685, 0.66163744, 0.36552485, 0.76437303, 0.56057858,\n",
      "             0.73302956, 0.63668933, 0.13483139, 0.65585128, 0.46628274,\n",
      "             0.02085885, 0.65350994, 0.1765288 , 0.5946134 ],            dtype=float64)\n",
      "rvs [0.3736468804618248, 0.6616159365747475, 0.365559785545863, 0.7643754277301225, 0.5605364666037468, 0.7330235841782851, 0.6366982570997428, 0.13484100311004077, 0.6558287713119924, 0.46627364735563237, 0.020863202496359423, 0.6536273788443114, 0.176540848073517, 0.5946104317343132]\n",
      "time 0.03468513799998618\n",
      "\n",
      "Starting Combination 1\n",
      "     fun: 1.3189188666272855\n",
      "     jac: DeviceArray([   6311.90478787,   17947.6516661 ,  -13652.70381011,\n",
      "              -96887.70646516,  -26540.98610715,  -92448.0513103 ,\n",
      "              -63064.32127109,  -98731.8427266 ,  -98276.09464385,\n",
      "             -351580.28365277, -138722.10878174, -272045.91529644,\n",
      "             -196714.65068947, 1022414.08065054], dtype=float64)\n",
      " message: 'Optimization terminated successfully.'\n",
      "    nfev: 2\n",
      "    nhev: 0\n",
      "     nit: 1\n",
      "    njev: 4\n",
      "  status: 0\n",
      " success: True\n",
      "       x: DeviceArray([0.37352111, 0.62321235, 0.23951785, 0.14449112, 0.56059084,\n",
      "             0.73303785, 0.16493905, 0.66209051, 0.55568085, 0.51093151,\n",
      "             0.11702578, 0.63616724, 0.19313419, 0.35322091],            dtype=float64)\n",
      "time 0.011440391999713029\n",
      "\n",
      "Starting Combination 2\n",
      "     fun: -10.072600933151037\n",
      "     jac: DeviceArray([ -7123.27504587,  -1915.53348979,  -5491.86255306,\n",
      "               6067.52976378,  -1281.03209122,  33373.78225219,\n",
      "              -6462.98253387,    376.07977133, -10849.76062361,\n",
      "               7860.58857025,  18942.00336384,   -571.13150919,\n",
      "              -8748.80943878,   5331.00813084], dtype=float64)\n",
      " message: 'Optimization terminated successfully.'\n",
      "    nfev: 3\n",
      "    nhev: 0\n",
      "     nit: 2\n",
      "    njev: 12\n",
      "  status: 0\n",
      " success: True\n",
      "       x: DeviceArray([0.37357791, 0.28334557, 0.28432498, 0.76918791, 0.56057585,\n",
      "             0.73303032, 0.79426882, 0.03346068, 0.76117136, 0.47209865,\n",
      "             0.04857433, 0.774711  , 0.24632007, 0.64758388],            dtype=float64)\n",
      "time 0.10779493500012904\n",
      "\n",
      "Starting Combination 3\n",
      "     fun: -8.866643135308976\n",
      "     jac: DeviceArray([-14283.02543862,   7211.647722  ,   7140.94562407,\n",
      "              -5451.68806181,  14825.99925079,   6942.7530282 ,\n",
      "              -2314.0141882 ,  12033.84398715, -13667.44644298,\n",
      "               4905.76775235,  -1635.40930799,   8823.67594679,\n",
      "              17118.05808034,    886.70318337], dtype=float64)\n",
      " message: 'Optimization terminated successfully.'\n",
      "    nfev: 3\n",
      "    nhev: 0\n",
      "     nit: 2\n",
      "    njev: 16\n",
      "  status: 0\n",
      " success: True\n",
      "       x: DeviceArray([0.6243293 , 0.62260403, 0.43664344, 0.63438518, 0.01339074,\n",
      "             0.87248082, 0.53028074, 0.1498151 , 0.5473187 , 0.42480686,\n",
      "             0.52069557, 0.68963175, 0.17652875, 0.59461233],            dtype=float64)\n",
      "time 0.04958798699954059\n",
      "\n",
      "Starting Combination 4\n",
      "     fun: 8.733581930279328\n",
      "     jac: DeviceArray([ -89284.36136411,    5352.29791269,  -68331.5137503 ,\n",
      "             -106465.84187165, -203695.71496132,   14960.72168263,\n",
      "              -60852.99512819,  -72648.3616843 ,  -57746.65457951,\n",
      "             -253458.35213209, -113998.96389462, -358712.41386288,\n",
      "             -184971.87012354,  958338.79879661], dtype=float64)\n",
      " message: 'Optimization terminated successfully.'\n",
      "    nfev: 2\n",
      "    nhev: 0\n",
      "     nit: 1\n",
      "    njev: 4\n",
      "  status: 0\n",
      " success: True\n",
      "       x: DeviceArray([0.62422439, 0.67276842, 0.38330211, 0.08855969, 0.01339764,\n",
      "             0.87250362, 0.08364268, 0.64329002, 0.46533549, 0.46862555,\n",
      "             0.40210621, 0.66634241, 0.19313258, 0.35322943],            dtype=float64)\n",
      "time 0.0111665919994266\n",
      "\n",
      "Starting Combination 5\n",
      "     fun: -8.906377653100826\n",
      "     jac: DeviceArray([-11579.72523388,  15552.34883753,   3442.55047796,\n",
      "             -14312.20715097,  -8936.71106658,   8624.10968257,\n",
      "              -9897.53361356, -20699.08766941,  -4365.15121965,\n",
      "             -11206.08678322,  -6031.54173392,  -1823.48685783,\n",
      "               6337.69959327,  12591.53195167], dtype=float64)\n",
      " message: 'Optimization terminated successfully.'\n",
      "    nfev: 3\n",
      "    nhev: 0\n",
      "     nit: 2\n",
      "    njev: 14\n",
      "  status: 0\n",
      " success: True\n",
      "       x: DeviceArray([0.62432779, 0.34299515, 0.43407007, 0.52129196, 0.01339097,\n",
      "             0.87248215, 0.70254078, 0.06854254, 0.62523105, 0.41817654,\n",
      "             0.62683994, 0.72216066, 0.24632679, 0.64758187],            dtype=float64)\n",
      "time 0.04427040200062038\n",
      "\n"
     ]
    }
   ],
   "source": [
    "random_variables = [random_orig.random() for _ in range(ps_generator.nDimPhaseSpace())]\n",
    "PS_point, jacobian = ps_generator.generateKinematics(E_cm, random_variables)\n",
    "\n",
    "fs = get_final_state(PS_point)\n",
    "\n",
    "key,subkey = jax.random.split(key)\n",
    "obs = smear_final_state(subkey, fs)\n",
    "\n",
    "combos = [[0,1,2,3,4,5],\n",
    "          [0,4,2,3,1,5],\n",
    "          [0,5,2,3,4,1],\n",
    "          [3,1,2,0,4,5],\n",
    "          [3,4,2,0,1,5],\n",
    "          [3,5,2,0,4,1]]\n",
    "\n",
    "results = []\n",
    "for i in range(6):\n",
    "    print(\"Starting Combination\", i)\n",
    "    \n",
    "    new_obs = obs[ combos[i] ]\n",
    "    \n",
    "    obs_vec = convert_to_PS_point(incoming=PS_point[0:2], observed=new_obs)\n",
    "    i_rv, i_wt = ps_generator.invertKinematics(E_cm, obs_vec)\n",
    "    \n",
    "    new_objective = get_rv_objective(new_obs, nll_objective)\n",
    "    \n",
    "    start_time = timeit.default_timer()\n",
    "    r = scipy.optimize.minimize(\n",
    "    new_objective,\n",
    "    onp.asarray(i_rv),\n",
    "    jac = True,\n",
    "    method = 'Newton-CG',\n",
    "    bounds = [(0.0,1.0)]*14\n",
    "    )\n",
    "    elapsed = timeit.default_timer() - start_time\n",
    "\n",
    "    results.append(r)\n",
    "    print(r)\n",
    "    if i==0:\n",
    "        print(\"rvs\", random_variables)\n",
    "    print(\"time\",elapsed)\n",
    "    print(\"\")"
   ]
  },
  {
   "cell_type": "code",
   "execution_count": 13,
   "metadata": {},
   "outputs": [
    {
     "name": "stdout",
     "output_type": "stream",
     "text": [
      "[0.5369316069803622, 0.6441100322294254, 0.7056283186512375, 0.2944479240389073, 0.11527650853269467, 0.3913974949833604, 0.7265434668879712, 0.029688331380537614, 0.09412554128720063, 0.755978949188364, 0.7743317785305885, 0.5219326666455739, 0.9996664445851675, 0.16990592622490897]\n"
     ]
    }
   ],
   "source": [
    "print(random_variables)"
   ]
  },
  {
   "cell_type": "code",
   "execution_count": null,
   "metadata": {},
   "outputs": [],
   "source": []
  },
  {
   "cell_type": "code",
   "execution_count": null,
   "metadata": {},
   "outputs": [],
   "source": [
    "\n",
    "    \n"
   ]
  },
  {
   "cell_type": "code",
   "execution_count": null,
   "metadata": {},
   "outputs": [],
   "source": []
  },
  {
   "cell_type": "code",
   "execution_count": null,
   "metadata": {},
   "outputs": [],
   "source": []
  }
 ],
 "metadata": {
  "kernelspec": {
   "display_name": "Python 3",
   "language": "python",
   "name": "python3"
  },
  "language_info": {
   "codemirror_mode": {
    "name": "ipython",
    "version": 3
   },
   "file_extension": ".py",
   "mimetype": "text/x-python",
   "name": "python",
   "nbconvert_exporter": "python",
   "pygments_lexer": "ipython3",
   "version": "3.8.2"
  }
 },
 "nbformat": 4,
 "nbformat_minor": 2
}
